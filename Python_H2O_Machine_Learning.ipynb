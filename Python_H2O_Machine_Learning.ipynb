{
  "nbformat": 4,
  "nbformat_minor": 0,
  "metadata": {
    "colab": {
      "provenance": [],
      "include_colab_link": true
    },
    "kernelspec": {
      "name": "python3",
      "display_name": "Python 3"
    },
    "language_info": {
      "name": "python"
    }
  },
  "cells": [
    {
      "cell_type": "markdown",
      "metadata": {
        "id": "view-in-github",
        "colab_type": "text"
      },
      "source": [
        "<a href=\"https://colab.research.google.com/github/toms-github-portfolio/Python_H2O_Machine_Learning/blob/main/Python_H2O_Machine_Learning.ipynb\" target=\"_parent\"><img src=\"https://colab.research.google.com/assets/colab-badge.svg\" alt=\"Open In Colab\"/></a>"
      ]
    },
    {
      "cell_type": "code",
      "execution_count": null,
      "metadata": {
        "id": "cTsHnuenGtvV"
      },
      "outputs": [],
      "source": [
        "import os"
      ]
    },
    {
      "cell_type": "code",
      "source": [
        "! pip install h2o"
      ],
      "metadata": {
        "colab": {
          "base_uri": "https://localhost:8080/"
        },
        "id": "ttwBotHdHMMW",
        "outputId": "0b23fc41-bd4d-4788-e2f5-0bc9db0267fe"
      },
      "execution_count": null,
      "outputs": [
        {
          "output_type": "stream",
          "name": "stdout",
          "text": [
            "Collecting h2o\n",
            "  Downloading h2o-3.44.0.3.tar.gz (265.2 MB)\n",
            "\u001b[2K     \u001b[90m━━━━━━━━━━━━━━━━━━━━━━━━━━━━━━━━━━━━━━━━\u001b[0m \u001b[32m265.2/265.2 MB\u001b[0m \u001b[31m2.9 MB/s\u001b[0m eta \u001b[36m0:00:00\u001b[0m\n",
            "\u001b[?25h  Preparing metadata (setup.py) ... \u001b[?25l\u001b[?25hdone\n",
            "Requirement already satisfied: requests in /usr/local/lib/python3.10/dist-packages (from h2o) (2.31.0)\n",
            "Requirement already satisfied: tabulate in /usr/local/lib/python3.10/dist-packages (from h2o) (0.9.0)\n",
            "Requirement already satisfied: charset-normalizer<4,>=2 in /usr/local/lib/python3.10/dist-packages (from requests->h2o) (3.3.2)\n",
            "Requirement already satisfied: idna<4,>=2.5 in /usr/local/lib/python3.10/dist-packages (from requests->h2o) (3.6)\n",
            "Requirement already satisfied: urllib3<3,>=1.21.1 in /usr/local/lib/python3.10/dist-packages (from requests->h2o) (2.0.7)\n",
            "Requirement already satisfied: certifi>=2017.4.17 in /usr/local/lib/python3.10/dist-packages (from requests->h2o) (2023.11.17)\n",
            "Building wheels for collected packages: h2o\n",
            "  Building wheel for h2o (setup.py) ... \u001b[?25l\u001b[?25hdone\n",
            "  Created wheel for h2o: filename=h2o-3.44.0.3-py2.py3-none-any.whl size=265293968 sha256=0289d81f125067fa9fd848daa3df31e5f07dbf96db23b577f22da395f9fe4df4\n",
            "  Stored in directory: /root/.cache/pip/wheels/77/9a/1c/2da26f943fd46b57f3c20b54847b936b9152b831dc7447cf71\n",
            "Successfully built h2o\n",
            "Installing collected packages: h2o\n",
            "Successfully installed h2o-3.44.0.3\n"
          ]
        }
      ]
    },
    {
      "cell_type": "code",
      "source": [
        "import h2o"
      ],
      "metadata": {
        "id": "xoky3mliHK8P"
      },
      "execution_count": null,
      "outputs": []
    },
    {
      "cell_type": "code",
      "source": [
        "h2o.init()"
      ],
      "metadata": {
        "colab": {
          "base_uri": "https://localhost:8080/",
          "height": 548
        },
        "id": "kJgsBnKyHmJE",
        "outputId": "09a9dc7b-7754-4fd3-8032-d2f36ee50470"
      },
      "execution_count": null,
      "outputs": [
        {
          "output_type": "stream",
          "name": "stdout",
          "text": [
            "Checking whether there is an H2O instance running at http://localhost:54321..... not found.\n",
            "Attempting to start a local H2O server...\n",
            "  Java Version: openjdk version \"11.0.21\" 2023-10-17; OpenJDK Runtime Environment (build 11.0.21+9-post-Ubuntu-0ubuntu122.04); OpenJDK 64-Bit Server VM (build 11.0.21+9-post-Ubuntu-0ubuntu122.04, mixed mode, sharing)\n",
            "  Starting server from /usr/local/lib/python3.10/dist-packages/h2o/backend/bin/h2o.jar\n",
            "  Ice root: /tmp/tmpdn3cgx56\n",
            "  JVM stdout: /tmp/tmpdn3cgx56/h2o_unknownUser_started_from_python.out\n",
            "  JVM stderr: /tmp/tmpdn3cgx56/h2o_unknownUser_started_from_python.err\n",
            "  Server is running at http://127.0.0.1:54321\n",
            "Connecting to H2O server at http://127.0.0.1:54321 ... successful.\n"
          ]
        },
        {
          "output_type": "display_data",
          "data": {
            "text/plain": [
              "--------------------------  -----------------------------------------------------------------------------------------\n",
              "H2O_cluster_uptime:         04 secs\n",
              "H2O_cluster_timezone:       Etc/UTC\n",
              "H2O_data_parsing_timezone:  UTC\n",
              "H2O_cluster_version:        3.44.0.3\n",
              "H2O_cluster_version_age:    1 month and 6 days\n",
              "H2O_cluster_name:           H2O_from_python_unknownUser_pypocb\n",
              "H2O_cluster_total_nodes:    1\n",
              "H2O_cluster_free_memory:    3.170 Gb\n",
              "H2O_cluster_total_cores:    2\n",
              "H2O_cluster_allowed_cores:  2\n",
              "H2O_cluster_status:         locked, healthy\n",
              "H2O_connection_url:         http://127.0.0.1:54321\n",
              "H2O_connection_proxy:       {\"http\": null, \"https\": null, \"colab_language_server\": \"/usr/colab/bin/language_service\"}\n",
              "H2O_internal_security:      False\n",
              "Python_version:             3.10.12 final\n",
              "--------------------------  -----------------------------------------------------------------------------------------"
            ],
            "text/html": [
              "\n",
              "<style>\n",
              "\n",
              "#h2o-table-1.h2o-container {\n",
              "  overflow-x: auto;\n",
              "}\n",
              "#h2o-table-1 .h2o-table {\n",
              "  /* width: 100%; */\n",
              "  margin-top: 1em;\n",
              "  margin-bottom: 1em;\n",
              "}\n",
              "#h2o-table-1 .h2o-table caption {\n",
              "  white-space: nowrap;\n",
              "  caption-side: top;\n",
              "  text-align: left;\n",
              "  /* margin-left: 1em; */\n",
              "  margin: 0;\n",
              "  font-size: larger;\n",
              "}\n",
              "#h2o-table-1 .h2o-table thead {\n",
              "  white-space: nowrap; \n",
              "  position: sticky;\n",
              "  top: 0;\n",
              "  box-shadow: 0 -1px inset;\n",
              "}\n",
              "#h2o-table-1 .h2o-table tbody {\n",
              "  overflow: auto;\n",
              "}\n",
              "#h2o-table-1 .h2o-table th,\n",
              "#h2o-table-1 .h2o-table td {\n",
              "  text-align: right;\n",
              "  /* border: 1px solid; */\n",
              "}\n",
              "#h2o-table-1 .h2o-table tr:nth-child(even) {\n",
              "  /* background: #F5F5F5 */\n",
              "}\n",
              "\n",
              "</style>      \n",
              "<div id=\"h2o-table-1\" class=\"h2o-container\">\n",
              "  <table class=\"h2o-table\">\n",
              "    <caption></caption>\n",
              "    <thead></thead>\n",
              "    <tbody><tr><td>H2O_cluster_uptime:</td>\n",
              "<td>04 secs</td></tr>\n",
              "<tr><td>H2O_cluster_timezone:</td>\n",
              "<td>Etc/UTC</td></tr>\n",
              "<tr><td>H2O_data_parsing_timezone:</td>\n",
              "<td>UTC</td></tr>\n",
              "<tr><td>H2O_cluster_version:</td>\n",
              "<td>3.44.0.3</td></tr>\n",
              "<tr><td>H2O_cluster_version_age:</td>\n",
              "<td>1 month and 6 days</td></tr>\n",
              "<tr><td>H2O_cluster_name:</td>\n",
              "<td>H2O_from_python_unknownUser_pypocb</td></tr>\n",
              "<tr><td>H2O_cluster_total_nodes:</td>\n",
              "<td>1</td></tr>\n",
              "<tr><td>H2O_cluster_free_memory:</td>\n",
              "<td>3.170 Gb</td></tr>\n",
              "<tr><td>H2O_cluster_total_cores:</td>\n",
              "<td>2</td></tr>\n",
              "<tr><td>H2O_cluster_allowed_cores:</td>\n",
              "<td>2</td></tr>\n",
              "<tr><td>H2O_cluster_status:</td>\n",
              "<td>locked, healthy</td></tr>\n",
              "<tr><td>H2O_connection_url:</td>\n",
              "<td>http://127.0.0.1:54321</td></tr>\n",
              "<tr><td>H2O_connection_proxy:</td>\n",
              "<td>{\"http\": null, \"https\": null, \"colab_language_server\": \"/usr/colab/bin/language_service\"}</td></tr>\n",
              "<tr><td>H2O_internal_security:</td>\n",
              "<td>False</td></tr>\n",
              "<tr><td>Python_version:</td>\n",
              "<td>3.10.12 final</td></tr></tbody>\n",
              "  </table>\n",
              "</div>\n"
            ]
          },
          "metadata": {}
        }
      ]
    },
    {
      "cell_type": "code",
      "source": [
        "# This data set seems to be about glass installation and how different x variables affect the heating / cooling load (y variables)\n",
        "\n",
        "# X1: relative compactness\n",
        "# X2: surface area\n",
        "# X3: wall area\n",
        "# X4: roof area\n",
        "# X5: overall height\n",
        "# X6: orientation\n",
        "# X7: glazing area\n",
        "# X8: glazing area distribution\n",
        "\n",
        "# Y1: heating load\n",
        "# Y2: cooling load"
      ],
      "metadata": {
        "id": "S-_Gp5ep_Tnm"
      },
      "execution_count": null,
      "outputs": []
    },
    {
      "cell_type": "code",
      "source": [
        "#If next line fails, instead set path to location of datasets / i imported it into collab and that worked.\n",
        "\n",
        "# Import the dataset with the full path\n",
        "data = h2o.import_file(\"/ENB2012_data.csv\")\n",
        "\n",
        "# Convert selected columns to factors (categorical variables)\n",
        "factorsList = [\"X6\",\"X8\"]\n",
        "data[factorsList] = data[factorsList].asfactor()\n",
        "\n",
        "# Split the data into training and testing sets - 10% to 90%\n",
        "train, test = data.split_frame([0.9])\n",
        "\n",
        "# Specify predictor variables (features)\n",
        "x = [\"X1\", \"X2\", \"X3\", \"X4\", \"X5\", \"X6\", \"X7\", \"X8\"]\n",
        "\n",
        "# Specify response variable (target)\n",
        "y = \"Y1\"  #Or \"Y2\" - using the heating load"
      ],
      "metadata": {
        "colab": {
          "base_uri": "https://localhost:8080/"
        },
        "id": "eI-TW9SUHsR0",
        "outputId": "4e5feda7-a1e6-46bb-aacd-51613b29a2ff"
      },
      "execution_count": null,
      "outputs": [
        {
          "output_type": "stream",
          "name": "stdout",
          "text": [
            "Parse progress: |████████████████████████████████████████████████████████████████| (done) 100%\n"
          ]
        }
      ]
    },
    {
      "cell_type": "code",
      "source": [
        "display([data])"
      ],
      "metadata": {
        "colab": {
          "base_uri": "https://localhost:8080/",
          "height": 267
        },
        "id": "VZ_QfQsxJrV7",
        "outputId": "8eaa2f41-dbfc-4f85-e8ef-d8d05857bdc9"
      },
      "execution_count": null,
      "outputs": [
        {
          "output_type": "display_data",
          "data": {
            "text/plain": [
              "[  X1     X2     X3      X4    X5    X6    X7    X8     Y1     Y2\n",
              "----  -----  -----  ------  ----  ----  ----  ----  -----  -----\n",
              "0.98  514.5  294    110.25     7     2     0     0  15.55  21.33\n",
              "0.98  514.5  294    110.25     7     3     0     0  15.55  21.33\n",
              "0.98  514.5  294    110.25     7     4     0     0  15.55  21.33\n",
              "0.98  514.5  294    110.25     7     5     0     0  15.55  21.33\n",
              "0.9   563.5  318.5  122.5      7     2     0     0  20.84  28.28\n",
              "0.9   563.5  318.5  122.5      7     3     0     0  21.46  25.38\n",
              "0.9   563.5  318.5  122.5      7     4     0     0  20.71  25.16\n",
              "0.9   563.5  318.5  122.5      7     5     0     0  19.68  29.6\n",
              "0.86  588    294    147        7     2     0     0  19.5   27.3\n",
              "0.86  588    294    147        7     3     0     0  19.95  21.97\n",
              "[768 rows x 10 columns]\n",
              "]"
            ]
          },
          "metadata": {}
        }
      ]
    },
    {
      "cell_type": "code",
      "source": [
        "from h2o.estimators import H2OGeneralizedLinearEstimator"
      ],
      "metadata": {
        "id": "lofwtaFiL_MQ"
      },
      "execution_count": null,
      "outputs": []
    },
    {
      "cell_type": "code",
      "source": [
        "# Creating and training the MLR model\n",
        "mlr_model = H2OGeneralizedLinearEstimator(model_id=\"mlr_model\", family=\"gaussian\")\n",
        "mlr_model.train(x=x, y=y, training_frame=train)"
      ],
      "metadata": {
        "colab": {
          "base_uri": "https://localhost:8080/",
          "height": 1000
        },
        "id": "_BMFCFf4Lunr",
        "outputId": "58b700a6-a873-4bcd-d2ab-90039232d1cb"
      },
      "execution_count": null,
      "outputs": [
        {
          "output_type": "stream",
          "name": "stdout",
          "text": [
            "glm Model Build progress: |██████████████████████████████████████████████████████| (done) 100%\n"
          ]
        },
        {
          "output_type": "execute_result",
          "data": {
            "text/plain": [
              "Model Details\n",
              "=============\n",
              "H2OGeneralizedLinearEstimator : Generalized Linear Modeling\n",
              "Model Key: mlr_model\n",
              "\n",
              "\n",
              "GLM Model: summary\n",
              "    family    link      regularization                               number_of_predictors_total    number_of_active_predictors    number_of_iterations    training_frame\n",
              "--  --------  --------  -------------------------------------------  ----------------------------  -----------------------------  ----------------------  ----------------\n",
              "    gaussian  identity  Elastic Net (alpha = 0.5, lambda = 0.0182 )  16                            12                             1                       py_7_sid_bafd\n",
              "\n",
              "ModelMetricsRegressionGLM: glm\n",
              "** Reported on train data. **\n",
              "\n",
              "MSE: 8.028488788347097\n",
              "RMSE: 2.8334588030086296\n",
              "MAE: 2.0462921840688337\n",
              "RMSLE: 0.11907854524155582\n",
              "Mean Residual Deviance: 8.028488788347097\n",
              "R^2: 0.9230109437950859\n",
              "Null degrees of freedom: 689\n",
              "Residual degrees of freedom: 677\n",
              "Null deviance: 71953.82742730662\n",
              "Residual deviance: 5539.657263959497\n",
              "AIC: 3423.402632844685\n",
              "\n",
              "Scoring History: \n",
              "    timestamp            duration    iterations    negative_log_likelihood    objective           training_rmse       training_deviance    training_mae        training_r2\n",
              "--  -------------------  ----------  ------------  -------------------------  ------------------  ------------------  -------------------  ------------------  ------------------\n",
              "    2024-01-27 03:52:34  0.000 sec   0             71953.82727768121          104.28090909808871\n",
              "    2024-01-27 03:52:34  0.162 sec   1                                                            2.8334588030086296  8.028488788347097    2.0462921840688337  0.9230109437950859\n",
              "\n",
              "Variable Importances: \n",
              "variable    relative_importance    scaled_importance    percentage\n",
              "----------  ---------------------  -------------------  ------------\n",
              "X5          7.96579                1                    0.359298\n",
              "X8.0        3.49509                0.438763             0.157646\n",
              "X1          2.94741                0.370009             0.132943\n",
              "X7          2.29758                0.288431             0.103633\n",
              "X4          2.18653                0.27449              0.0986235\n",
              "X3          1.32374                0.166178             0.0597074\n",
              "X2          1.11758                0.140297             0.0504084\n",
              "X8.1        0.409563               0.0514153            0.0184734\n",
              "X8.2        0.220519               0.0276833            0.00994655\n",
              "X8.4        0.119234               0.0149683            0.00537806\n",
              "X6.4        0.047502               0.00596325           0.00214258\n",
              "X8.5        0.0399086              0.00501              0.00180008\n",
              "X8.3        0                      0                    0\n",
              "X6.2        0                      0                    0\n",
              "X6.3        0                      0                    0\n",
              "X6.5        0                      0                    0\n",
              "\n",
              "[tips]\n",
              "Use `model.explain()` to inspect the model.\n",
              "--\n",
              "Use `h2o.display.toggle_user_tips()` to switch on/off this section."
            ],
            "text/html": [
              "<pre style='margin: 1em 0 1em 0;'>Model Details\n",
              "=============\n",
              "H2OGeneralizedLinearEstimator : Generalized Linear Modeling\n",
              "Model Key: mlr_model\n",
              "</pre>\n",
              "<div style='margin: 1em 0 1em 0;'>\n",
              "<style>\n",
              "\n",
              "#h2o-table-2.h2o-container {\n",
              "  overflow-x: auto;\n",
              "}\n",
              "#h2o-table-2 .h2o-table {\n",
              "  /* width: 100%; */\n",
              "  margin-top: 1em;\n",
              "  margin-bottom: 1em;\n",
              "}\n",
              "#h2o-table-2 .h2o-table caption {\n",
              "  white-space: nowrap;\n",
              "  caption-side: top;\n",
              "  text-align: left;\n",
              "  /* margin-left: 1em; */\n",
              "  margin: 0;\n",
              "  font-size: larger;\n",
              "}\n",
              "#h2o-table-2 .h2o-table thead {\n",
              "  white-space: nowrap; \n",
              "  position: sticky;\n",
              "  top: 0;\n",
              "  box-shadow: 0 -1px inset;\n",
              "}\n",
              "#h2o-table-2 .h2o-table tbody {\n",
              "  overflow: auto;\n",
              "}\n",
              "#h2o-table-2 .h2o-table th,\n",
              "#h2o-table-2 .h2o-table td {\n",
              "  text-align: right;\n",
              "  /* border: 1px solid; */\n",
              "}\n",
              "#h2o-table-2 .h2o-table tr:nth-child(even) {\n",
              "  /* background: #F5F5F5 */\n",
              "}\n",
              "\n",
              "</style>      \n",
              "<div id=\"h2o-table-2\" class=\"h2o-container\">\n",
              "  <table class=\"h2o-table\">\n",
              "    <caption>GLM Model: summary</caption>\n",
              "    <thead><tr><th></th>\n",
              "<th>family</th>\n",
              "<th>link</th>\n",
              "<th>regularization</th>\n",
              "<th>number_of_predictors_total</th>\n",
              "<th>number_of_active_predictors</th>\n",
              "<th>number_of_iterations</th>\n",
              "<th>training_frame</th></tr></thead>\n",
              "    <tbody><tr><td></td>\n",
              "<td>gaussian</td>\n",
              "<td>identity</td>\n",
              "<td>Elastic Net (alpha = 0.5, lambda = 0.0182 )</td>\n",
              "<td>16</td>\n",
              "<td>12</td>\n",
              "<td>1</td>\n",
              "<td>py_7_sid_bafd</td></tr></tbody>\n",
              "  </table>\n",
              "</div>\n",
              "</div>\n",
              "<div style='margin: 1em 0 1em 0;'><pre style='margin: 1em 0 1em 0;'>ModelMetricsRegressionGLM: glm\n",
              "** Reported on train data. **\n",
              "\n",
              "MSE: 8.028488788347097\n",
              "RMSE: 2.8334588030086296\n",
              "MAE: 2.0462921840688337\n",
              "RMSLE: 0.11907854524155582\n",
              "Mean Residual Deviance: 8.028488788347097\n",
              "R^2: 0.9230109437950859\n",
              "Null degrees of freedom: 689\n",
              "Residual degrees of freedom: 677\n",
              "Null deviance: 71953.82742730662\n",
              "Residual deviance: 5539.657263959497\n",
              "AIC: 3423.402632844685</pre></div>\n",
              "<div style='margin: 1em 0 1em 0;'>\n",
              "<style>\n",
              "\n",
              "#h2o-table-3.h2o-container {\n",
              "  overflow-x: auto;\n",
              "}\n",
              "#h2o-table-3 .h2o-table {\n",
              "  /* width: 100%; */\n",
              "  margin-top: 1em;\n",
              "  margin-bottom: 1em;\n",
              "}\n",
              "#h2o-table-3 .h2o-table caption {\n",
              "  white-space: nowrap;\n",
              "  caption-side: top;\n",
              "  text-align: left;\n",
              "  /* margin-left: 1em; */\n",
              "  margin: 0;\n",
              "  font-size: larger;\n",
              "}\n",
              "#h2o-table-3 .h2o-table thead {\n",
              "  white-space: nowrap; \n",
              "  position: sticky;\n",
              "  top: 0;\n",
              "  box-shadow: 0 -1px inset;\n",
              "}\n",
              "#h2o-table-3 .h2o-table tbody {\n",
              "  overflow: auto;\n",
              "}\n",
              "#h2o-table-3 .h2o-table th,\n",
              "#h2o-table-3 .h2o-table td {\n",
              "  text-align: right;\n",
              "  /* border: 1px solid; */\n",
              "}\n",
              "#h2o-table-3 .h2o-table tr:nth-child(even) {\n",
              "  /* background: #F5F5F5 */\n",
              "}\n",
              "\n",
              "</style>      \n",
              "<div id=\"h2o-table-3\" class=\"h2o-container\">\n",
              "  <table class=\"h2o-table\">\n",
              "    <caption>Scoring History: </caption>\n",
              "    <thead><tr><th></th>\n",
              "<th>timestamp</th>\n",
              "<th>duration</th>\n",
              "<th>iterations</th>\n",
              "<th>negative_log_likelihood</th>\n",
              "<th>objective</th>\n",
              "<th>training_rmse</th>\n",
              "<th>training_deviance</th>\n",
              "<th>training_mae</th>\n",
              "<th>training_r2</th></tr></thead>\n",
              "    <tbody><tr><td></td>\n",
              "<td>2024-01-27 03:52:34</td>\n",
              "<td> 0.000 sec</td>\n",
              "<td>0</td>\n",
              "<td>71953.8272777</td>\n",
              "<td>104.2809091</td>\n",
              "<td></td>\n",
              "<td></td>\n",
              "<td></td>\n",
              "<td></td></tr>\n",
              "<tr><td></td>\n",
              "<td>2024-01-27 03:52:34</td>\n",
              "<td> 0.162 sec</td>\n",
              "<td>1</td>\n",
              "<td></td>\n",
              "<td></td>\n",
              "<td>2.8334588</td>\n",
              "<td>8.0284888</td>\n",
              "<td>2.0462922</td>\n",
              "<td>0.9230109</td></tr></tbody>\n",
              "  </table>\n",
              "</div>\n",
              "</div>\n",
              "<div style='margin: 1em 0 1em 0;'>\n",
              "<style>\n",
              "\n",
              "#h2o-table-4.h2o-container {\n",
              "  overflow-x: auto;\n",
              "}\n",
              "#h2o-table-4 .h2o-table {\n",
              "  /* width: 100%; */\n",
              "  margin-top: 1em;\n",
              "  margin-bottom: 1em;\n",
              "}\n",
              "#h2o-table-4 .h2o-table caption {\n",
              "  white-space: nowrap;\n",
              "  caption-side: top;\n",
              "  text-align: left;\n",
              "  /* margin-left: 1em; */\n",
              "  margin: 0;\n",
              "  font-size: larger;\n",
              "}\n",
              "#h2o-table-4 .h2o-table thead {\n",
              "  white-space: nowrap; \n",
              "  position: sticky;\n",
              "  top: 0;\n",
              "  box-shadow: 0 -1px inset;\n",
              "}\n",
              "#h2o-table-4 .h2o-table tbody {\n",
              "  overflow: auto;\n",
              "}\n",
              "#h2o-table-4 .h2o-table th,\n",
              "#h2o-table-4 .h2o-table td {\n",
              "  text-align: right;\n",
              "  /* border: 1px solid; */\n",
              "}\n",
              "#h2o-table-4 .h2o-table tr:nth-child(even) {\n",
              "  /* background: #F5F5F5 */\n",
              "}\n",
              "\n",
              "</style>      \n",
              "<div id=\"h2o-table-4\" class=\"h2o-container\">\n",
              "  <table class=\"h2o-table\">\n",
              "    <caption>Variable Importances: </caption>\n",
              "    <thead><tr><th>variable</th>\n",
              "<th>relative_importance</th>\n",
              "<th>scaled_importance</th>\n",
              "<th>percentage</th></tr></thead>\n",
              "    <tbody><tr><td>X5</td>\n",
              "<td>7.9657865</td>\n",
              "<td>1.0</td>\n",
              "<td>0.3592977</td></tr>\n",
              "<tr><td>X8.0</td>\n",
              "<td>3.4950895</td>\n",
              "<td>0.4387626</td>\n",
              "<td>0.1576464</td></tr>\n",
              "<tr><td>X1</td>\n",
              "<td>2.9474132</td>\n",
              "<td>0.3700091</td>\n",
              "<td>0.1329434</td></tr>\n",
              "<tr><td>X7</td>\n",
              "<td>2.2975793</td>\n",
              "<td>0.2884309</td>\n",
              "<td>0.1036326</td></tr>\n",
              "<tr><td>X4</td>\n",
              "<td>2.1865261</td>\n",
              "<td>0.2744897</td>\n",
              "<td>0.0986235</td></tr>\n",
              "<tr><td>X3</td>\n",
              "<td>1.3237398</td>\n",
              "<td>0.1661782</td>\n",
              "<td>0.0597074</td></tr>\n",
              "<tr><td>X2</td>\n",
              "<td>1.1175764</td>\n",
              "<td>0.1402971</td>\n",
              "<td>0.0504084</td></tr>\n",
              "<tr><td>X8.1</td>\n",
              "<td>0.4095635</td>\n",
              "<td>0.0514153</td>\n",
              "<td>0.0184734</td></tr>\n",
              "<tr><td>X8.2</td>\n",
              "<td>0.2205194</td>\n",
              "<td>0.0276833</td>\n",
              "<td>0.0099466</td></tr>\n",
              "<tr><td>X8.4</td>\n",
              "<td>0.1192340</td>\n",
              "<td>0.0149683</td>\n",
              "<td>0.0053781</td></tr>\n",
              "<tr><td>X6.4</td>\n",
              "<td>0.0475020</td>\n",
              "<td>0.0059632</td>\n",
              "<td>0.0021426</td></tr>\n",
              "<tr><td>X8.5</td>\n",
              "<td>0.0399086</td>\n",
              "<td>0.0050100</td>\n",
              "<td>0.0018001</td></tr>\n",
              "<tr><td>X8.3</td>\n",
              "<td>0.0</td>\n",
              "<td>0.0</td>\n",
              "<td>0.0</td></tr>\n",
              "<tr><td>X6.2</td>\n",
              "<td>0.0</td>\n",
              "<td>0.0</td>\n",
              "<td>0.0</td></tr>\n",
              "<tr><td>X6.3</td>\n",
              "<td>0.0</td>\n",
              "<td>0.0</td>\n",
              "<td>0.0</td></tr>\n",
              "<tr><td>X6.5</td>\n",
              "<td>0.0</td>\n",
              "<td>0.0</td>\n",
              "<td>0.0</td></tr></tbody>\n",
              "  </table>\n",
              "</div>\n",
              "</div><pre style=\"font-size: smaller; margin: 1em 0 0 0;\">\n",
              "\n",
              "[tips]\n",
              "Use `model.explain()` to inspect the model.\n",
              "--\n",
              "Use `h2o.display.toggle_user_tips()` to switch on/off this section.</pre>"
            ]
          },
          "metadata": {},
          "execution_count": 21
        }
      ]
    },
    {
      "cell_type": "markdown",
      "source": [
        "Creating the MLR Model Object:\n",
        "\n",
        "mlr_model = H2OGeneralizedLinearEstimator(model_id=\"mlr_model\", family=\"gaussian\"): Here, you are creating an instance of the H2OGeneralizedLinearEstimator class, which is a class provided by H2O for building generalized linear models.\n",
        "The model_id parameter is used to assign a unique identifier to the model, in this case, \"mlr_model\".\n",
        "The family parameter is set to \"gaussian\", indicating that you are building a model for a continuous response variable, which aligns with the nature of Multiple Linear Regression.\n",
        "Training the MLR Model:\n",
        "\n",
        "mlr_model.train(x=x, y=y, training_frame=train): This line of code is training the MLR model on the training dataset (train).\n",
        "x is a list containing the names of predictor variables. In this case, it includes [\"X1\", \"X2\", \"X3\", \"X4\", \"X5\", \"X6\", \"X7\", \"X8\"].\n",
        "y is the response variable. In this case, it is \"Y2\" (or you can use \"Y1\" depending on your specific use case).\n",
        "The training_frame parameter specifies the training dataset.\n",
        "After this code is executed, the mlr_model object will be a trained MLR model that you can use to make predictions on new data or analyze the model's performance. The print(mlr_model) statement is used to display the summary of the trained model, including information about the coefficients, performance metrics, and other relevant details.\n"
      ],
      "metadata": {
        "id": "eY-xkTNNMoTx"
      }
    },
    {
      "cell_type": "code",
      "source": [
        "# Displaying the model summary\n",
        "print(mlr_model)"
      ],
      "metadata": {
        "colab": {
          "base_uri": "https://localhost:8080/"
        },
        "id": "hy_yfIhOLwRU",
        "outputId": "f16c5244-d894-47a7-cf00-aed1b2523c61"
      },
      "execution_count": null,
      "outputs": [
        {
          "output_type": "stream",
          "name": "stdout",
          "text": [
            "Model Details\n",
            "=============\n",
            "H2OGeneralizedLinearEstimator : Generalized Linear Modeling\n",
            "Model Key: mlr_model\n",
            "\n",
            "\n",
            "GLM Model: summary\n",
            "    family    link      regularization                               number_of_predictors_total    number_of_active_predictors    number_of_iterations    training_frame\n",
            "--  --------  --------  -------------------------------------------  ----------------------------  -----------------------------  ----------------------  ----------------\n",
            "    gaussian  identity  Elastic Net (alpha = 0.5, lambda = 0.0182 )  16                            12                             1                       py_7_sid_bafd\n",
            "\n",
            "ModelMetricsRegressionGLM: glm\n",
            "** Reported on train data. **\n",
            "\n",
            "MSE: 8.028488788347097\n",
            "RMSE: 2.8334588030086296\n",
            "MAE: 2.0462921840688337\n",
            "RMSLE: 0.11907854524155582\n",
            "Mean Residual Deviance: 8.028488788347097\n",
            "R^2: 0.9230109437950859\n",
            "Null degrees of freedom: 689\n",
            "Residual degrees of freedom: 677\n",
            "Null deviance: 71953.82742730662\n",
            "Residual deviance: 5539.657263959497\n",
            "AIC: 3423.402632844685\n",
            "\n",
            "Scoring History: \n",
            "    timestamp            duration    iterations    negative_log_likelihood    objective           training_rmse       training_deviance    training_mae        training_r2\n",
            "--  -------------------  ----------  ------------  -------------------------  ------------------  ------------------  -------------------  ------------------  ------------------\n",
            "    2024-01-27 03:52:34  0.000 sec   0             71953.82727768121          104.28090909808871\n",
            "    2024-01-27 03:52:34  0.162 sec   1                                                            2.8334588030086296  8.028488788347097    2.0462921840688337  0.9230109437950859\n",
            "\n",
            "Variable Importances: \n",
            "variable    relative_importance    scaled_importance    percentage\n",
            "----------  ---------------------  -------------------  ------------\n",
            "X5          7.96579                1                    0.359298\n",
            "X8.0        3.49509                0.438763             0.157646\n",
            "X1          2.94741                0.370009             0.132943\n",
            "X7          2.29758                0.288431             0.103633\n",
            "X4          2.18653                0.27449              0.0986235\n",
            "X3          1.32374                0.166178             0.0597074\n",
            "X2          1.11758                0.140297             0.0504084\n",
            "X8.1        0.409563               0.0514153            0.0184734\n",
            "X8.2        0.220519               0.0276833            0.00994655\n",
            "X8.4        0.119234               0.0149683            0.00537806\n",
            "X6.4        0.047502               0.00596325           0.00214258\n",
            "X8.5        0.0399086              0.00501              0.00180008\n",
            "X8.3        0                      0                    0\n",
            "X6.2        0                      0                    0\n",
            "X6.3        0                      0                    0\n",
            "X6.5        0                      0                    0\n"
          ]
        }
      ]
    },
    {
      "cell_type": "code",
      "source": [
        "# Making predictions on the test set\n",
        "predictions = mlr_model.predict(test)"
      ],
      "metadata": {
        "colab": {
          "base_uri": "https://localhost:8080/"
        },
        "id": "DYWOqYypLzSk",
        "outputId": "ac497e82-67db-4875-e4e0-9ae229675637"
      },
      "execution_count": null,
      "outputs": [
        {
          "output_type": "stream",
          "name": "stdout",
          "text": [
            "glm prediction progress: |███████████████████████████████████████████████████████| (done) 100%\n"
          ]
        }
      ]
    },
    {
      "cell_type": "code",
      "source": [
        "# Displaying predicted values\n",
        "print(predictions)"
      ],
      "metadata": {
        "colab": {
          "base_uri": "https://localhost:8080/"
        },
        "id": "Mg3i-PTVL4yj",
        "outputId": "c25c7ba0-9003-4d6c-f7e9-88a4ec217d46"
      },
      "execution_count": null,
      "outputs": [
        {
          "output_type": "stream",
          "name": "stdout",
          "text": [
            "  predict\n",
            " 21.2787\n",
            " 23.003\n",
            " 24.761\n",
            "  3.11723\n",
            " 26.9097\n",
            " 26.8622\n",
            " 26.9097\n",
            " 27.5728\n",
            " 27.5728\n",
            " 10.0166\n",
            "[78 rows x 1 column]\n",
            "\n"
          ]
        }
      ]
    },
    {
      "cell_type": "code",
      "source": [
        "# Visualizing model coefficients\n",
        "coefficients_table = mlr_model._model_json['output']['coefficients_table']\n",
        "print(coefficients_table)\n"
      ],
      "metadata": {
        "colab": {
          "base_uri": "https://localhost:8080/"
        },
        "id": "ZqD1qrtVNcKn",
        "outputId": "87fb045c-3de2-4a55-ca9d-5bca54a4bc43"
      },
      "execution_count": null,
      "outputs": [
        {
          "output_type": "stream",
          "name": "stdout",
          "text": [
            "Coefficients: glm coefficients\n",
            "names      coefficients    standardized_coefficients\n",
            "---------  --------------  ---------------------------\n",
            "Intercept  23.7219         22.4794\n",
            "X8.0       -3.49509        -3.49509\n",
            "X8.1       0.409563        0.409563\n",
            "X8.2       0.220519        0.220519\n",
            "X8.3       0               0\n",
            "X8.4       0.119234        0.119234\n",
            "X8.5       0.0399086       0.0399086\n",
            "X6.2       0               0\n",
            "X6.3       0               0\n",
            "X6.4       -0.047502       -0.047502\n",
            "X6.5       0               0\n",
            "X1         -28.2345        -2.94741\n",
            "X2         -0.0128134      -1.11758\n",
            "X3         0.0300123       1.32374\n",
            "X4         -0.0485222      -2.18653\n",
            "X5         4.5486          7.96579\n",
            "X7         17.2631         2.29758\n"
          ]
        }
      ]
    },
    {
      "cell_type": "code",
      "source": [
        "#This code extracts and prints the coefficients table from the model output.\n",
        "#It helps us understand the impact of each predictor variable on the response variable.\n",
        "# From my understanding the x8.0 or x8.1 etc are different circumstances / data recordings"
      ],
      "metadata": {
        "id": "5ARxwjMwNhhf"
      },
      "execution_count": null,
      "outputs": []
    },
    {
      "cell_type": "code",
      "source": [
        "# Scatter plot of predicted vs. actual values\n",
        "import matplotlib.pyplot as plt\n",
        "plt.scatter(test[y].as_data_frame(), predictions.as_data_frame(), alpha=0.5)\n",
        "plt.title(\"Actual vs. Predicted Values\")\n",
        "plt.xlabel(\"Actual Values\")\n",
        "plt.ylabel(\"Predicted Values\")\n",
        "plt.show()\n",
        "\n",
        "# Alpha Parameter: The alpha parameter sets the transparency of the points.\n",
        "# A value of 0.5 means that the points will be semi-transparent, making it easier to visualize overlapping points."
      ],
      "metadata": {
        "colab": {
          "base_uri": "https://localhost:8080/",
          "height": 508
        },
        "id": "qpKyFLFuOD_J",
        "outputId": "47c869b7-fd79-49f4-8ead-7685c6284d7a"
      },
      "execution_count": null,
      "outputs": [
        {
          "output_type": "stream",
          "name": "stdout",
          "text": [
            "Export File progress: |██████████████████████████████████████████████████████████| (done) 100%\n",
            "Export File progress: |██████████████████████████████████████████████████████████| (done) 100%\n"
          ]
        },
        {
          "output_type": "display_data",
          "data": {
            "text/plain": [
              "<Figure size 640x480 with 1 Axes>"
            ],
            "image/png": "[encoded data removed]"
          },
          "metadata": {}
        }
      ]
    },
    {
      "cell_type": "code",
      "source": [
        "# Ideally, the points should form a diagonal line, indicating a strong correlation between predicted and actual values.\n",
        "# If there are deviations from the diagonal, it may suggest areas where the model could be improved.\n",
        "# In this case, there appears to be a strong correlation between the actual and predicted values"
      ],
      "metadata": {
        "id": "aVFlJPaNFJaQ"
      },
      "execution_count": null,
      "outputs": []
    },
    {
      "cell_type": "markdown",
      "source": [
        "Hyperparamater Tunning"
      ],
      "metadata": {
        "id": "G5_ieGdzPcat"
      }
    },
    {
      "cell_type": "code",
      "source": [
        "# Unlike model parameters, which are learned during training, hyperparameters are set prior to training and influence the learning process.\n",
        "from h2o.estimators import H2OGeneralizedLinearEstimator\n",
        "from h2o.grid.grid_search import H2OGridSearch"
      ],
      "metadata": {
        "id": "s4kRV008O3Ly"
      },
      "execution_count": null,
      "outputs": []
    },
    {
      "cell_type": "code",
      "source": [
        "# Grid search for hyperparameter tuning\n",
        "hyperparameters = {\"alpha\": [0.01, 0.1, 0.3], \"lambda\": [0.1, 0.01, 0.001]}\n",
        "grid = H2OGridSearch(H2OGeneralizedLinearEstimator(family=\"gaussian\"),\n",
        "                     grid_id=\"grid_model\",\n",
        "                     hyper_params=hyperparameters)\n",
        "grid.train(x=x, y=y, training_frame=train)\n",
        "print(grid)\n"
      ],
      "metadata": {
        "colab": {
          "base_uri": "https://localhost:8080/"
        },
        "id": "_-dSTiK5OqpZ",
        "outputId": "0644d2cd-d1d3-4c03-f3bc-a21b93e0a452"
      },
      "execution_count": null,
      "outputs": [
        {
          "output_type": "stream",
          "name": "stdout",
          "text": [
            "glm Grid Build progress: |███████████████████████████████████████████████████████| (done) 100%\n",
            "Hyper-Parameter Search Summary: ordered by increasing residual_deviance\n",
            "    alpha    lambda    model_ids           residual_deviance\n",
            "--  -------  --------  ------------------  -------------------\n",
            "    0.3      0.001     grid_model_model_9  5389.15\n",
            "    0.1      0.001     grid_model_model_8  5390.16\n",
            "    0.01     0.001     grid_model_model_7  5390.65\n",
            "    0.3      0.01      grid_model_model_6  5477.49\n",
            "    0.1      0.01      grid_model_model_5  5499.09\n",
            "    0.01     0.01      grid_model_model_4  5509.29\n",
            "    0.3      0.1       grid_model_model_3  6670.79\n",
            "    0.1      0.1       grid_model_model_2  6815.47\n",
            "    0.01     0.1       grid_model_model_1  6871.89\n"
          ]
        }
      ]
    },
    {
      "cell_type": "code",
      "source": [
        "#If next line fails, instead set path to location of datasets / i imported it into collab and that worked.\n",
        "\n",
        "# Import the dataset with the full path\n",
        "data = h2o.import_file(\"/ENB2012_data.csv\")\n",
        "\n",
        "# Convert selected columns to factors (categorical variables)\n",
        "factorsList = [\"X6\",\"X8\"]\n",
        "data[factorsList] = data[factorsList].asfactor()\n",
        "\n",
        "# Split the data into training and testing sets - 10% to 90%\n",
        "train, test = data.split_frame([0.7])\n",
        "\n",
        "# Specify predictor variables (features)\n",
        "x = [\"X1\", \"X2\", \"X3\", \"X4\", \"X5\", \"X6\", \"X7\", \"X8\"]\n",
        "\n",
        "# Specify response variable (target)\n",
        "y = \"Y1\"  #Or \"Y2\" - using the heating load"
      ],
      "metadata": {
        "id": "DVdelx3TMG-J",
        "colab": {
          "base_uri": "https://localhost:8080/"
        },
        "outputId": "253fab18-a781-4758-c1fb-8dc508ee3331"
      },
      "execution_count": null,
      "outputs": [
        {
          "output_type": "stream",
          "name": "stdout",
          "text": [
            "Parse progress: |████████████████████████████████████████████████████████████████| (done) 100%\n"
          ]
        }
      ]
    },
    {
      "cell_type": "code",
      "source": [
        "display([data])"
      ],
      "metadata": {
        "id": "23bPQOuaM98X",
        "colab": {
          "base_uri": "https://localhost:8080/",
          "height": 267
        },
        "outputId": "d134aea3-a2c6-4937-d92a-b8c8f51bbc8a"
      },
      "execution_count": null,
      "outputs": [
        {
          "output_type": "display_data",
          "data": {
            "text/plain": [
              "[  X1     X2     X3      X4    X5    X6    X7    X8     Y1     Y2\n",
              "----  -----  -----  ------  ----  ----  ----  ----  -----  -----\n",
              "0.98  514.5  294    110.25     7     2     0     0  15.55  21.33\n",
              "0.98  514.5  294    110.25     7     3     0     0  15.55  21.33\n",
              "0.98  514.5  294    110.25     7     4     0     0  15.55  21.33\n",
              "0.98  514.5  294    110.25     7     5     0     0  15.55  21.33\n",
              "0.9   563.5  318.5  122.5      7     2     0     0  20.84  28.28\n",
              "0.9   563.5  318.5  122.5      7     3     0     0  21.46  25.38\n",
              "0.9   563.5  318.5  122.5      7     4     0     0  20.71  25.16\n",
              "0.9   563.5  318.5  122.5      7     5     0     0  19.68  29.6\n",
              "0.86  588    294    147        7     2     0     0  19.5   27.3\n",
              "0.86  588    294    147        7     3     0     0  19.95  21.97\n",
              "[768 rows x 10 columns]\n",
              "]"
            ]
          },
          "metadata": {}
        }
      ]
    },
    {
      "cell_type": "code",
      "source": [
        "from h2o.estimators import H2OGeneralizedLinearEstimator"
      ],
      "metadata": {
        "id": "jG-H0FTUJxiO"
      },
      "execution_count": null,
      "outputs": []
    },
    {
      "cell_type": "code",
      "source": [
        "# Making predictions on the test set\n",
        "predictions = mlr_model.predict(test)"
      ],
      "metadata": {
        "colab": {
          "base_uri": "https://localhost:8080/"
        },
        "id": "8Xp9GgklKTlH",
        "outputId": "fbe85b8a-6a56-49a7-adf4-b26f0b99436b"
      },
      "execution_count": null,
      "outputs": [
        {
          "output_type": "stream",
          "name": "stdout",
          "text": [
            "glm prediction progress: |███████████████████████████████████████████████████████| (done) 100%\n"
          ]
        }
      ]
    },
    {
      "cell_type": "code",
      "source": [
        "# Displaying predicted values\n",
        "print(predictions)"
      ],
      "metadata": {
        "colab": {
          "base_uri": "https://localhost:8080/"
        },
        "id": "BV7xaApZKc97",
        "outputId": "462c8c19-311b-41f3-d0ed-acb582f6143e"
      },
      "execution_count": null,
      "outputs": [
        {
          "output_type": "stream",
          "name": "stdout",
          "text": [
            "  predict\n",
            " 21.3494\n",
            " 23.0843\n",
            " 21.7075\n",
            " 21.7693\n",
            " 23.3269\n",
            " 24.5486\n",
            " 28.7664\n",
            " 28.729\n",
            " 28.729\n",
            "  3.36064\n",
            "[238 rows x 1 column]\n",
            "\n"
          ]
        }
      ]
    },
    {
      "cell_type": "code",
      "source": [
        "# Visualizing model coefficients\n",
        "coefficients_table = mlr_model._model_json['output']['coefficients_table']\n",
        "print(coefficients_table)"
      ],
      "metadata": {
        "colab": {
          "base_uri": "https://localhost:8080/"
        },
        "id": "-JGGkagXKkVQ",
        "outputId": "db5a1647-7bea-4292-891f-97f4d1a9158a"
      },
      "execution_count": null,
      "outputs": [
        {
          "output_type": "stream",
          "name": "stdout",
          "text": [
            "Coefficients: glm coefficients\n",
            "names      coefficients    standardized_coefficients\n",
            "---------  --------------  ---------------------------\n",
            "Intercept  24.4627         22.3197\n",
            "X8.0       -3.31714        -3.31714\n",
            "X8.1       0.515079        0.515079\n",
            "X8.2       0               0\n",
            "X8.3       0.0678624       0.0678624\n",
            "X8.4       0.232557        0.232557\n",
            "X8.5       0.072845        0.072845\n",
            "X6.2       0.0373583       0.0373583\n",
            "X6.3       -0.0617375      -0.0617375\n",
            "X6.4       0               0\n",
            "X6.5       0               0\n",
            "X1         -27.4149        -2.89692\n",
            "X2         -0.0135237      -1.18734\n",
            "X3         0.0323398       1.42442\n",
            "X4         -0.0510445      -2.30663\n",
            "X5         4.30687         7.54366\n",
            "X7         17.0226         2.26052\n"
          ]
        }
      ]
    },
    {
      "cell_type": "code",
      "source": [
        "# Scatter plot of predicted vs. actual values\n",
        "import matplotlib.pyplot as plt\n",
        "plt.scatter(test[y].as_data_frame(), predictions.as_data_frame(), alpha=0.5)\n",
        "plt.title(\"Actual vs. Predicted Values\")\n",
        "plt.xlabel(\"Actual Values\")\n",
        "plt.ylabel(\"Predicted Values\")\n",
        "plt.show()\n",
        "\n",
        "# Alpha Parameter: The alpha parameter sets the transparency of the points.\n",
        "# A value of 0.5 means that the points will be semi-transparent, making it easier to visualize overlapping points."
      ],
      "metadata": {
        "colab": {
          "base_uri": "https://localhost:8080/",
          "height": 508
        },
        "id": "qvAl1y2EKvgn",
        "outputId": "8695b827-65fb-4cc6-a9b1-0f305725d3b9"
      },
      "execution_count": null,
      "outputs": [
        {
          "output_type": "stream",
          "name": "stdout",
          "text": [
            "Export File progress: |██████████████████████████████████████████████████████████| (done) 100%\n",
            "Export File progress: |██████████████████████████████████████████████████████████| (done) 100%\n"
          ]
        },
        {
          "output_type": "display_data",
          "data": {
            "text/plain": [
              "<Figure size 640x480 with 1 Axes>"
            ],
            "image/png": "[encoded data removed]"
          },
          "metadata": {}
        }
      ]
    },
    {
      "cell_type": "code",
      "source": [
        "# Grid search for hyperparameter tuning\n",
        "hyperparameters = {\"alpha\": [0.01, 0.1, 0.3], \"lambda\": [0.1, 0.01, 0.001]}\n",
        "grid = H2OGridSearch(H2OGeneralizedLinearEstimator(family=\"gaussian\"),\n",
        "                     grid_id=\"grid_model\",\n",
        "                     hyper_params=hyperparameters)\n",
        "grid.train(x=x, y=y, training_frame=train)\n",
        "print(grid)"
      ],
      "metadata": {
        "colab": {
          "base_uri": "https://localhost:8080/"
        },
        "id": "691cpcZjK5pV",
        "outputId": "8fc3a46c-cdc9-4f4e-b207-4d4158097a9c"
      },
      "execution_count": null,
      "outputs": [
        {
          "output_type": "stream",
          "name": "stdout",
          "text": [
            "glm Grid Build progress: |███████████████████████████████████████████████████████| (done) 100%\n",
            "Hyper-Parameter Search Summary: ordered by increasing residual_deviance\n",
            "     alpha    lambda    model_ids            residual_deviance\n",
            "---  -------  --------  -------------------  -------------------\n",
            "     0.3      0.001     grid_model_model_18  4033.88439815727\n",
            "     0.1      0.001     grid_model_model_17  4034.7761844908455\n",
            "     0.05     0.001     grid_model_model_16  4035.011653225643\n",
            "     0.01     0.001     grid_model_model_28  4035.203198902387\n",
            "     0.3      0.01      grid_model_model_15  4103.080264028298\n",
            "     0.1      0.01      grid_model_model_14  4118.028467455122\n",
            "     0.05     0.01      grid_model_model_13  4121.879746238957\n",
            "     0.01     0.01      grid_model_model_25  4124.998482857503\n",
            "     0.3      0.07      grid_model_model_24  4683.55546406914\n",
            "     0.1      0.07      grid_model_model_23  4771.6577595639765\n",
            "---  ---      ---       ---                  ---\n",
            "     0.01     0.1       grid_model_model_22  5070.21184565802\n",
            "     0.3      0.001     grid_model_model_9   5389.154507743294\n",
            "     0.1      0.001     grid_model_model_8   5390.162454104183\n",
            "     0.01     0.001     grid_model_model_7   5390.650112583473\n",
            "     0.3      0.01      grid_model_model_6   5477.485149038029\n",
            "     0.1      0.01      grid_model_model_5   5499.091986103491\n",
            "     0.01     0.01      grid_model_model_4   5509.287947037081\n",
            "     0.3      0.1       grid_model_model_3   6670.788629012947\n",
            "     0.1      0.1       grid_model_model_2   6815.469768226283\n",
            "     0.01     0.1       grid_model_model_1   6871.890366342739\n",
            "[24 rows x 5 columns]\n",
            "\n"
          ]
        }
      ]
    }
  ]
}